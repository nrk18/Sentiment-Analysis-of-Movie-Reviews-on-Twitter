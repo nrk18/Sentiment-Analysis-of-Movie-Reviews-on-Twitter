{
 "cells": [
  {
   "cell_type": "code",
   "execution_count": 1,
   "id": "434332f5",
   "metadata": {},
   "outputs": [
    {
     "ename": "SyntaxError",
     "evalue": "invalid character '‘' (U+2018) (628824214.py, line 10)",
     "output_type": "error",
     "traceback": [
      "\u001b[1;36m  Input \u001b[1;32mIn [1]\u001b[1;36m\u001b[0m\n\u001b[1;33m    @app.route(‘/’)\u001b[0m\n\u001b[1;37m               ^\u001b[0m\n\u001b[1;31mSyntaxError\u001b[0m\u001b[1;31m:\u001b[0m invalid character '‘' (U+2018)\n"
     ]
    }
   ],
   "source": [
    "import os\n",
    "import pandas as pd \n",
    "import numpy as np \n",
    "import flask\n",
    "import pickle\n",
    "from flask import Flask, render_template, request\n",
    "\n",
    "app=Flask(__name__)\n",
    "\n",
    "@app.route(‘/’)\n",
    "\n",
    "def home():\n",
    "    return flask.render_template(‘home.html’)\n",
    "\n",
    "def ValuePredictor(to_predict_list):\n",
    "    vectorizer = pickle.load(open('vectorizer.sav', 'rb'))\n",
    "    classifier = pickle.load(open('classifier.sav', 'rb'))\n",
    "    return result[0]\n",
    "\n",
    "@app.route(‘/predict’,methods = [‘POST’])\n",
    "\n",
    "def result():\n",
    "    if request.method == ‘POST’:\n",
    "        to_predict_list = request.form.to_dict()\n",
    "        to_predict_list=list(to_predict_list.values())\n",
    "        to_predict_list = list(map(float, to_predict_list))\n",
    "        result = ValuePredictor(to_predict_list)\n",
    "        prediction = str(result)\n",
    "    return render_template(“predict.html”,prediction=prediction)\n",
    "\n",
    "if __name__ == “__main__”:\n",
    "    app.run(debug=True)"
   ]
  },
  {
   "cell_type": "code",
   "execution_count": null,
   "id": "97d08fca",
   "metadata": {},
   "outputs": [],
   "source": [
    "if(name == '__main__'):\n",
    "    app.run_server(debug=True, use_reloader=False)"
   ]
  }
 ],
 "metadata": {
  "kernelspec": {
   "display_name": "Python 3 (ipykernel)",
   "language": "python",
   "name": "python3"
  },
  "language_info": {
   "codemirror_mode": {
    "name": "ipython",
    "version": 3
   },
   "file_extension": ".py",
   "mimetype": "text/x-python",
   "name": "python",
   "nbconvert_exporter": "python",
   "pygments_lexer": "ipython3",
   "version": "3.10.1"
  }
 },
 "nbformat": 4,
 "nbformat_minor": 5
}
